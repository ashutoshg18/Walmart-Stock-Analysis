{
 "cells": [
  {
   "cell_type": "code",
   "execution_count": 1,
   "id": "62a195f6",
   "metadata": {},
   "outputs": [],
   "source": [
    "from pyspark.sql import SparkSession\n",
    "spark = (SparkSession.builder.appName(\"Walmart_DA\").getOrCreate())"
   ]
  },
  {
   "cell_type": "code",
   "execution_count": 2,
   "id": "e4719e31",
   "metadata": {},
   "outputs": [],
   "source": [
    "from pyspark.sql.types import StructType, StructField, StringType, TimestampType, IntegerType, DoubleType"
   ]
  },
  {
   "cell_type": "code",
   "execution_count": 3,
   "id": "c2db33f0",
   "metadata": {},
   "outputs": [],
   "source": [
    "schema = StructType([\n",
    "        StructField('Date',TimestampType(), True),\n",
    "        StructField('Open',DoubleType(), True),\n",
    "        StructField('High',DoubleType(), True),\n",
    "        StructField('Low',DoubleType(), True),\n",
    "        StructField('Close',DoubleType(), True),\n",
    "        StructField('Adj Close',DoubleType(), True),\n",
    "        StructField('Volume',IntegerType(), True),\n",
    "])"
   ]
  },
  {
   "cell_type": "code",
   "execution_count": 4,
   "id": "a5e778bd",
   "metadata": {},
   "outputs": [],
   "source": [
    "df = spark.read.csv(path='Walmart-Data/WMT.csv', schema=schema, header=True)"
   ]
  },
  {
   "cell_type": "code",
   "execution_count": 5,
   "id": "5db48f7f",
   "metadata": {},
   "outputs": [
    {
     "name": "stdout",
     "output_type": "stream",
     "text": [
      "root\n",
      " |-- Date: timestamp (nullable = true)\n",
      " |-- Open: double (nullable = true)\n",
      " |-- High: double (nullable = true)\n",
      " |-- Low: double (nullable = true)\n",
      " |-- Close: double (nullable = true)\n",
      " |-- Adj Close: double (nullable = true)\n",
      " |-- Volume: integer (nullable = true)\n",
      "\n"
     ]
    }
   ],
   "source": [
    "df.printSchema()"
   ]
  },
  {
   "cell_type": "code",
   "execution_count": 6,
   "id": "575430da",
   "metadata": {},
   "outputs": [
    {
     "data": {
      "text/plain": [
       "['Date', 'Open', 'High', 'Low', 'Close', 'Adj Close', 'Volume']"
      ]
     },
     "execution_count": 6,
     "metadata": {},
     "output_type": "execute_result"
    }
   ],
   "source": [
    "df.columns"
   ]
  },
  {
   "cell_type": "code",
   "execution_count": 7,
   "id": "da857a37",
   "metadata": {},
   "outputs": [
    {
     "name": "stdout",
     "output_type": "stream",
     "text": [
      "+-------------------+--------+--------+--------+--------+---------+-------+\n",
      "|Date               |Open    |High    |Low     |Close   |Adj Close|Volume |\n",
      "+-------------------+--------+--------+--------+--------+---------+-------+\n",
      "|1972-08-25 00:00:00|0.063477|0.064697|0.063477|0.064453|0.036447 |2508800|\n",
      "|1972-08-28 00:00:00|0.064453|0.064941|0.064209|0.064209|0.036309 |972800 |\n",
      "|1972-08-29 00:00:00|0.063965|0.063965|0.063477|0.063477|0.035895 |1945600|\n",
      "|1972-08-30 00:00:00|0.063477|0.063477|0.062988|0.063477|0.035895 |409600 |\n",
      "|1972-08-31 00:00:00|0.062988|0.062988|0.0625  |0.0625  |0.035343 |870400 |\n",
      "|1972-09-01 00:00:00|0.062744|0.062988|0.062744|0.062988|0.035619 |256000 |\n",
      "|1972-09-05 00:00:00|0.062988|0.062988|0.0625  |0.0625  |0.035343 |563200 |\n",
      "|1972-09-06 00:00:00|0.062988|0.062988|0.062988|0.062988|0.035619 |256000 |\n",
      "|1972-09-07 00:00:00|0.062988|0.062988|0.062744|0.062744|0.035481 |1177600|\n",
      "|1972-09-08 00:00:00|0.0625  |0.0625  |0.062256|0.062256|0.035205 |665600 |\n",
      "+-------------------+--------+--------+--------+--------+---------+-------+\n",
      "only showing top 10 rows\n",
      "\n"
     ]
    }
   ],
   "source": [
    "df.show(10, False)"
   ]
  },
  {
   "cell_type": "code",
   "execution_count": 8,
   "id": "be275822",
   "metadata": {},
   "outputs": [
    {
     "name": "stdout",
     "output_type": "stream",
     "text": [
      "+-------+-----------------+------------------+------------------+------------------+------------------+-----------------+\n",
      "|summary|             Open|              High|               Low|             Close|         Adj Close|           Volume|\n",
      "+-------+-----------------+------------------+------------------+------------------+------------------+-----------------+\n",
      "|  count|            12491|             12491|             12491|             12491|             12491|            12491|\n",
      "|   mean|35.47919765615241|35.811310182371315|35.151301605716114| 35.48537980233778|28.948680092146382|7540559.743735489|\n",
      "| stddev|37.20707114804321| 37.51941889361142| 36.91418633394463|37.214409106712566|34.585374876991864|6237161.700819969|\n",
      "|    min|         0.015625|          0.015625|          0.014404|          0.015625|          0.008889|                0|\n",
      "|    max|       153.600006|        153.660004|        151.660004|        152.789993|        150.842651|        131833600|\n",
      "+-------+-----------------+------------------+------------------+------------------+------------------+-----------------+\n",
      "\n"
     ]
    }
   ],
   "source": [
    "df.describe().show()"
   ]
  },
  {
   "cell_type": "code",
   "execution_count": 9,
   "id": "9b1a0003",
   "metadata": {},
   "outputs": [],
   "source": [
    "from pyspark.sql.functions import format_number"
   ]
  },
  {
   "cell_type": "code",
   "execution_count": 10,
   "id": "91d442b2",
   "metadata": {},
   "outputs": [
    {
     "name": "stdout",
     "output_type": "stream",
     "text": [
      "+-------+---------+---------+---------+---------+-----------+\n",
      "|summary|     Open|     High|      Low|    Close|     Volume|\n",
      "+-------+---------+---------+---------+---------+-----------+\n",
      "|  count|12,491.00|12,491.00|12,491.00|12,491.00|     12,491|\n",
      "|   mean|    35.48|    35.81|    35.15|    35.49|  7,540,559|\n",
      "| stddev|    37.21|    37.52|    36.91|    37.21|  6,237,161|\n",
      "|    min|     0.02|     0.02|     0.01|     0.02|          0|\n",
      "|    max|   153.60|   153.66|   151.66|   152.79|131,833,600|\n",
      "+-------+---------+---------+---------+---------+-----------+\n",
      "\n"
     ]
    }
   ],
   "source": [
    "summary = df.describe()\n",
    "summary.select(summary['summary'],\n",
    "               format_number(summary['Open'].cast('float'), 2).alias('Open'),\n",
    "               format_number(summary['High'].cast('float'), 2).alias('High'),\n",
    "               format_number(summary['Low'].cast('float'), 2).alias('Low'),\n",
    "               format_number(summary['Close'].cast('float'), 2).alias('Close'),\n",
    "               format_number(summary['Volume'].cast('int'),0).alias('Volume')\n",
    " ).show()"
   ]
  },
  {
   "cell_type": "markdown",
   "id": "fa811809",
   "metadata": {},
   "source": [
    "#### HV ratio. High Price Vs Volume of Stock"
   ]
  },
  {
   "cell_type": "code",
   "execution_count": 11,
   "id": "ce673f34",
   "metadata": {},
   "outputs": [
    {
     "name": "stdout",
     "output_type": "stream",
     "text": [
      "+------------------+\n",
      "|          HV Ratio|\n",
      "+------------------+\n",
      "|1.0192195598405722|\n",
      "| 1.011400270990048|\n",
      "|1.0076878239362286|\n",
      "|1.0077633835016193|\n",
      "|          1.007808|\n",
      "|1.0038888180543162|\n",
      "|          1.007808|\n",
      "|               1.0|\n",
      "|1.0038888180543162|\n",
      "|1.0039193009509124|\n",
      "|               1.0|\n",
      "|               1.0|\n",
      "|               1.0|\n",
      "|          1.011712|\n",
      "|1.0038888180543162|\n",
      "|1.0038737537308693|\n",
      "|1.0078386019018246|\n",
      "|               1.0|\n",
      "|1.0243760302369336|\n",
      "|1.0337533053351997|\n",
      "+------------------+\n",
      "only showing top 20 rows\n",
      "\n"
     ]
    }
   ],
   "source": [
    "hv_df = df.withColumn('HV Ratio',df['High']/df['Low']).select(['HV Ratio'])\n",
    "hv_df.show()"
   ]
  },
  {
   "cell_type": "markdown",
   "id": "8c819f14",
   "metadata": {},
   "source": [
    "#### mean closing price of the stock"
   ]
  },
  {
   "cell_type": "code",
   "execution_count": 12,
   "id": "9f2e4589",
   "metadata": {},
   "outputs": [],
   "source": [
    "from pyspark.sql.functions import mean"
   ]
  },
  {
   "cell_type": "code",
   "execution_count": 13,
   "id": "3f42f264",
   "metadata": {},
   "outputs": [
    {
     "name": "stdout",
     "output_type": "stream",
     "text": [
      "+-----------------+\n",
      "|       avg(Close)|\n",
      "+-----------------+\n",
      "|35.48537980233778|\n",
      "+-----------------+\n",
      "\n"
     ]
    }
   ],
   "source": [
    "df.select(mean('Close')).show()"
   ]
  },
  {
   "cell_type": "markdown",
   "id": "a82224c9",
   "metadata": {},
   "source": [
    "#### mean opening price of the stock"
   ]
  },
  {
   "cell_type": "code",
   "execution_count": 14,
   "id": "737d393e",
   "metadata": {},
   "outputs": [
    {
     "name": "stdout",
     "output_type": "stream",
     "text": [
      "+-----------------+\n",
      "|        avg(Open)|\n",
      "+-----------------+\n",
      "|35.47919765615241|\n",
      "+-----------------+\n",
      "\n"
     ]
    }
   ],
   "source": [
    "df.select(mean('Open')).show()"
   ]
  },
  {
   "cell_type": "markdown",
   "id": "b1554d80",
   "metadata": {},
   "source": [
    "#### avg volume traded"
   ]
  },
  {
   "cell_type": "code",
   "execution_count": 15,
   "id": "d5822ee9",
   "metadata": {},
   "outputs": [
    {
     "name": "stdout",
     "output_type": "stream",
     "text": [
      "+-----------------+\n",
      "|      avg(Volume)|\n",
      "+-----------------+\n",
      "|7540559.743735489|\n",
      "+-----------------+\n",
      "\n"
     ]
    }
   ],
   "source": [
    "df.select(mean('Volume')).show()"
   ]
  },
  {
   "cell_type": "markdown",
   "id": "b3a0b47c",
   "metadata": {},
   "source": [
    "#### Max and Min values for Volume, Opening and Closing price traded"
   ]
  },
  {
   "cell_type": "code",
   "execution_count": 16,
   "id": "39712a07",
   "metadata": {},
   "outputs": [],
   "source": [
    "from pyspark.sql.functions import min, max"
   ]
  },
  {
   "cell_type": "code",
   "execution_count": 17,
   "id": "7640df28",
   "metadata": {},
   "outputs": [
    {
     "name": "stdout",
     "output_type": "stream",
     "text": [
      "+-----------+-----------+\n",
      "|max(Volume)|min(Volume)|\n",
      "+-----------+-----------+\n",
      "|  131833600|          0|\n",
      "+-----------+-----------+\n",
      "\n"
     ]
    }
   ],
   "source": [
    "# Volume\n",
    "df.select(max('Volume'), min('Volume')).show()"
   ]
  },
  {
   "cell_type": "code",
   "execution_count": 18,
   "id": "e99347c4",
   "metadata": {},
   "outputs": [
    {
     "name": "stdout",
     "output_type": "stream",
     "text": [
      "+----------+---------+\n",
      "| max(Open)|min(Open)|\n",
      "+----------+---------+\n",
      "|153.600006| 0.015625|\n",
      "+----------+---------+\n",
      "\n"
     ]
    }
   ],
   "source": [
    "# Opening\n",
    "df.select(max('Open'), min('Open')).show()"
   ]
  },
  {
   "cell_type": "code",
   "execution_count": 19,
   "id": "ce3c953b",
   "metadata": {},
   "outputs": [
    {
     "name": "stdout",
     "output_type": "stream",
     "text": [
      "+----------+----------+\n",
      "|max(Close)|min(Close)|\n",
      "+----------+----------+\n",
      "|152.789993|  0.015625|\n",
      "+----------+----------+\n",
      "\n"
     ]
    }
   ],
   "source": [
    "# Closing\n",
    "df.select(max('Close'), min('Close')).show()"
   ]
  },
  {
   "cell_type": "markdown",
   "id": "48ab6b81",
   "metadata": {},
   "source": [
    "#### number of days Close lower than 60 $ "
   ]
  },
  {
   "cell_type": "code",
   "execution_count": 20,
   "id": "dd4d4488",
   "metadata": {},
   "outputs": [
    {
     "data": {
      "text/plain": [
       "9903"
      ]
     },
     "execution_count": 20,
     "metadata": {},
     "output_type": "execute_result"
    }
   ],
   "source": [
    "df.filter(df['Close'] < 60).count()"
   ]
  },
  {
   "cell_type": "markdown",
   "id": "4bdcc711",
   "metadata": {},
   "source": [
    "#### Number of days Open greater than 90 $"
   ]
  },
  {
   "cell_type": "code",
   "execution_count": 21,
   "id": "bc1d2111",
   "metadata": {},
   "outputs": [
    {
     "data": {
      "text/plain": [
       "972"
      ]
     },
     "execution_count": 21,
     "metadata": {},
     "output_type": "execute_result"
    }
   ],
   "source": [
    "df.filter(df['Open'] > 90).count()"
   ]
  },
  {
   "cell_type": "markdown",
   "id": "75910c7f",
   "metadata": {},
   "source": [
    "#### What percent of time was High greater than 90 $"
   ]
  },
  {
   "cell_type": "code",
   "execution_count": 22,
   "id": "40bf7e2c",
   "metadata": {},
   "outputs": [
    {
     "data": {
      "text/plain": [
       "7.885677687935313"
      ]
     },
     "execution_count": 22,
     "metadata": {},
     "output_type": "execute_result"
    }
   ],
   "source": [
    "df.filter('High > 90').count()/ df.count() * 100"
   ]
  },
  {
   "cell_type": "code",
   "execution_count": 23,
   "id": "74e9b60c",
   "metadata": {},
   "outputs": [
    {
     "data": {
      "text/plain": [
       "7.885677687935313"
      ]
     },
     "execution_count": 23,
     "metadata": {},
     "output_type": "execute_result"
    }
   ],
   "source": [
    "# another approach\n",
    "df.filter(df['High'] > 90).count()/ df.count() * 100"
   ]
  },
  {
   "cell_type": "markdown",
   "id": "0677caea",
   "metadata": {},
   "source": [
    "#### Correlation between high and volume"
   ]
  },
  {
   "cell_type": "code",
   "execution_count": 24,
   "id": "af251966",
   "metadata": {},
   "outputs": [
    {
     "data": {
      "text/plain": [
       "0.3241577762793653"
      ]
     },
     "execution_count": 24,
     "metadata": {},
     "output_type": "execute_result"
    }
   ],
   "source": [
    "df.corr('High', 'Volume')"
   ]
  },
  {
   "cell_type": "code",
   "execution_count": null,
   "id": "d413e9ff",
   "metadata": {},
   "outputs": [],
   "source": []
  }
 ],
 "metadata": {
  "kernelspec": {
   "display_name": "Python 3 (ipykernel)",
   "language": "python",
   "name": "python3"
  },
  "language_info": {
   "codemirror_mode": {
    "name": "ipython",
    "version": 3
   },
   "file_extension": ".py",
   "mimetype": "text/x-python",
   "name": "python",
   "nbconvert_exporter": "python",
   "pygments_lexer": "ipython3",
   "version": "3.10.0"
  }
 },
 "nbformat": 4,
 "nbformat_minor": 5
}
